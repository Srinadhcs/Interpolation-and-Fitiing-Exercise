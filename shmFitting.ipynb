{
 "cells": [
  {
   "cell_type": "code",
   "execution_count": 1,
   "metadata": {},
   "outputs": [],
   "source": [
    "# Required Imports\n",
    "import numpy as np\n",
    "import os\n",
    "import matplotlib.pyplot as plt\n",
    "from scipy.optimize import curve_fit\n",
    "from scipy.interpolate import CubicSpline"
   ]
  },
  {
   "cell_type": "markdown",
   "metadata": {},
   "source": [
    "### Q1  \n",
    "#### Defining Function to model SHM"
   ]
  },
  {
   "cell_type": "code",
   "execution_count": 2,
   "metadata": {},
   "outputs": [],
   "source": [
    "def shm(t, A, omega, phi, d):\n",
    "    return A*np.cos(omega*t + phi) + d"
   ]
  },
  {
   "cell_type": "markdown",
   "metadata": {},
   "source": [
    "### Q2\n",
    "#### Read the whole text file and store in appropriate arrays"
   ]
  },
  {
   "cell_type": "code",
   "execution_count": 3,
   "metadata": {},
   "outputs": [],
   "source": [
    "t, y = np.loadtxt(os.path.join(os.getcwd(),\"SHM-200g.txt\"), unpack=True)"
   ]
  },
  {
   "cell_type": "markdown",
   "metadata": {},
   "source": [
    "### Q3 \n",
    "#### Setting up array with same number of elements of data points and filling it with 1 mm = 0.001 m."
   ]
  },
  {
   "cell_type": "code",
   "execution_count": 4,
   "metadata": {},
   "outputs": [],
   "source": [
    "sig = np.zeros(len(y))\n",
    "sig.fill(0.001)"
   ]
  },
  {
   "cell_type": "markdown",
   "metadata": {},
   "source": [
    "### Q4\n",
    "#### Estimating A"
   ]
  },
  {
   "cell_type": "code",
   "execution_count": 5,
   "metadata": {},
   "outputs": [
    {
     "name": "stdout",
     "output_type": "stream",
     "text": [
      "A: 0.035148780665000004\n"
     ]
    }
   ],
   "source": [
    "A = (y.max() - y.min())/2.0\n",
    "print(f\"A: {A}\")"
   ]
  },
  {
   "cell_type": "markdown",
   "metadata": {},
   "source": [
    "### Q5\n",
    "#### Estimating W from T"
   ]
  },
  {
   "cell_type": "code",
   "execution_count": 6,
   "metadata": {},
   "outputs": [
    {
     "name": "stdout",
     "output_type": "stream",
     "text": [
      "T: 0.7796130633915119 \n",
      "w: 8.059363807792238\n"
     ]
    }
   ],
   "source": [
    "cs = CubicSpline(t, y)\n",
    "roots = cs.roots()\n",
    "\n",
    "adj_diff = np.zeros(len(roots) - 1) \n",
    "\n",
    "for i in range(len(roots)-1):\n",
    "    adj_diff[i] = roots[i+1] - roots[i]\n",
    "\n",
    "T = np.mean(adj_diff) * 2\n",
    "\n",
    "w = 2.0*np.pi/T\n",
    "\n",
    "print(f\"T: {T} \\nw: {w}\")"
   ]
  },
  {
   "cell_type": "markdown",
   "metadata": {},
   "source": [
    "### Q6\n",
    "#### Estimating phi"
   ]
  },
  {
   "cell_type": "code",
   "execution_count": 7,
   "metadata": {},
   "outputs": [
    {
     "name": "stdout",
     "output_type": "stream",
     "text": [
      "phi: 0.6410904937366214\n"
     ]
    }
   ],
   "source": [
    "phi = np.arccos(y[0]/A)\n",
    "\n",
    "print(f\"phi: {phi}\")"
   ]
  },
  {
   "cell_type": "markdown",
   "metadata": {},
   "source": [
    "### Q7\n",
    "#### Fitting Curve"
   ]
  },
  {
   "cell_type": "code",
   "execution_count": 8,
   "metadata": {},
   "outputs": [
    {
     "name": "stdout",
     "output_type": "stream",
     "text": [
      "Theta\n",
      " [ 3.48852767e-02  7.56148776e+00  6.68775879e-01 -1.50307186e-04]\n",
      "\n",
      "Covariance Matrix\n",
      " [[ 7.36266631e-08 -3.26448525e-08  7.14524381e-08 -7.78518519e-10]\n",
      " [-3.26448525e-08  1.19939794e-04 -1.42761326e-04 -4.11139883e-07]\n",
      " [ 7.14524381e-08 -1.42761326e-04  2.30755561e-04  5.10688109e-07]\n",
      " [-7.78518519e-10 -4.11139883e-07  5.10688109e-07  3.83212208e-08]]\n"
     ]
    }
   ],
   "source": [
    "theta_0 = [A, w, phi, 0.0]\n",
    "theta, cov_mat = curve_fit(shm, t, y, p0=theta_0, sigma=sig)\n",
    "print(\"Theta\\n\",theta)\n",
    "print(\"\\nCovariance Matrix\\n\",cov_mat)"
   ]
  },
  {
   "cell_type": "markdown",
   "metadata": {},
   "source": [
    "### Q8\n",
    "#### Plotting the data points"
   ]
  },
  {
   "cell_type": "code",
   "execution_count": 9,
   "metadata": {},
   "outputs": [
    {
     "data": {
      "image/png": "[encoded data removed]",
      "text/plain": [
       "<Figure size 432x288 with 1 Axes>"
      ]
     },
     "metadata": {
      "needs_background": "light"
     },
     "output_type": "display_data"
    }
   ],
   "source": [
    "t_m = np.linspace(t.min(), t.max(), 1000)\n",
    "y_m = shm(t_m, theta[0], theta[1], theta[2], theta[3])\n",
    "\n",
    "plt.errorbar(t, y, sig, fmt=\".\")\n",
    "plt.plot(t_m, y_m)\n",
    "plt.xlabel(\"t\")\n",
    "plt.ylabel(\"y\")\n",
    "\n",
    "plt.show()"
   ]
  },
  {
   "cell_type": "markdown",
   "metadata": {},
   "source": [
    "### Q9\n",
    "#### Generating Correlation"
   ]
  },
  {
   "cell_type": "code",
   "execution_count": 10,
   "metadata": {},
   "outputs": [
    {
     "name": "stdout",
     "output_type": "stream",
     "text": [
      "[[ 1.         -0.01098539  0.01733498 -0.01465655]\n",
      " [-0.01098539  1.         -0.85812951 -0.19177337]\n",
      " [ 0.01733498 -0.85812951  1.          0.17173546]\n",
      " [-0.01465655 -0.19177337  0.17173546  1.        ]]\n"
     ]
    }
   ],
   "source": [
    "cor_mat = np.zeros_like(cov_mat)\n",
    "for i in range(0,len(theta)):\n",
    "    for j in range(0,len(theta)):\n",
    "        cor_mat[i][j] = cov_mat[i][j]/np.sqrt(cov_mat[i][i]*cov_mat[j][j])\n",
    "\n",
    "print(cor_mat)"
   ]
  },
  {
   "cell_type": "markdown",
   "metadata": {},
   "source": [
    "### Q10\n",
    "#### Comparing standard deviations"
   ]
  },
  {
   "cell_type": "code",
   "execution_count": 11,
   "metadata": {},
   "outputs": [
    {
     "name": "stdout",
     "output_type": "stream",
     "text": [
      "Std Deviation of A\t: 0.00027134233566540735\n",
      "Std Deviation of w\t: 0.01095170279462405\n",
      "Std Deviation of phi\t: 0.01519064058265614\n",
      "Std Deviation of d\t: 0.0001957580671159743\n"
     ]
    }
   ],
   "source": [
    "std_dev = np.sqrt(np.diag(cov_mat))\n",
    "\n",
    "std_A, std_w, std_phi, std_d = std_dev\n",
    "\n",
    "print(f\"Std Deviation of A\\t: {std_A}\")\n",
    "print(f\"Std Deviation of w\\t: {std_w}\")\n",
    "print(f\"Std Deviation of phi\\t: {std_phi}\")\n",
    "print(f\"Std Deviation of d\\t: {std_d}\")"
   ]
  },
  {
   "cell_type": "markdown",
   "metadata": {},
   "source": [
    "- Parameter phi has the largest Standard Deviation"
   ]
  }
 ],
 "metadata": {
  "kernelspec": {
   "display_name": "Python 3",
   "language": "python",
   "name": "python3"
  },
  "language_info": {
   "codemirror_mode": {
    "name": "ipython",
    "version": 3
   },
   "file_extension": ".py",
   "mimetype": "text/x-python",
   "name": "python",
   "nbconvert_exporter": "python",
   "pygments_lexer": "ipython3",
   "version": "3.7.4rc1"
  }
 },
 "nbformat": 4,
 "nbformat_minor": 2
}
