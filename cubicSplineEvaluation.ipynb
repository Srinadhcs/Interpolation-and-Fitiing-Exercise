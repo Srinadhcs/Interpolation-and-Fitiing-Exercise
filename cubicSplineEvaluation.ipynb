{
 "cells": [
  {
   "cell_type": "code",
   "execution_count": 1,
   "metadata": {},
   "outputs": [],
   "source": [
    "# Required Imports\n",
    "import numpy as np\n",
    "import os\n",
    "import math\n",
    "import matplotlib.pyplot as plt\n",
    "from scipy.optimize import curve_fit\n",
    "from scipy.interpolate import CubicSpline, lagrange\n",
    "from scipy.integrate import quadrature\n",
    "from scipy.misc import derivative\n",
    "from scipy import interpolate"
   ]
  },
  {
   "cell_type": "markdown",
   "metadata": {},
   "source": [
    "### Q1"
   ]
  },
  {
   "cell_type": "code",
   "execution_count": 2,
   "metadata": {},
   "outputs": [],
   "source": [
    "def langrange_interpolation(val, x, fx):\n",
    "    N = len(x)\n",
    "    result = 0\n",
    "    for i in range(0,N):\n",
    "        prod = 1 \n",
    "        for j in range(0,N):\n",
    "            if (j!=i):\n",
    "                prod *= (val - x[j])/(x[i] - x[j])\n",
    "        result += prod*fx[i]\n",
    "    return result"
   ]
  },
  {
   "cell_type": "code",
   "execution_count": 3,
   "metadata": {},
   "outputs": [
    {
     "name": "stdout",
     "output_type": "stream",
     "text": [
      "Results Lagrange:\n",
      "y(2)=  10.165521978021976\n",
      "y(9)=  40.416483516483524\n",
      "\n",
      "Results CubicSpline:\n",
      "y(2)=  9.153301886792452\n",
      "y(2)=  31.338993710691824\n"
     ]
    }
   ],
   "source": [
    "x = np.array([0,3,5,7,13])\n",
    "fx = np.array([-7,6,-1,11,18])\n",
    "\n",
    "cs = CubicSpline(x, fx)\n",
    "\n",
    "print(\"Results Lagrange:\")\n",
    "print(\"y(2)= \",langrange_interpolation(2, x, fx) )\n",
    "print(\"y(9)= \",langrange_interpolation(9, x, fx) )\n",
    "print(\"\\nResults CubicSpline:\")\n",
    "print(\"y(2)= \",cs(2.0))\n",
    "print(\"y(2)= \",cs(9.0))"
   ]
  },
  {
   "cell_type": "markdown",
   "metadata": {},
   "source": [
    "### Q2"
   ]
  },
  {
   "cell_type": "code",
   "execution_count": 4,
   "metadata": {},
   "outputs": [],
   "source": [
    "def gaussian(x,mu,sigma):\n",
    "    return np.exp((-(x-mu)**2)/(2*sigma**2))*math.sqrt(1/(2*math.pi*sigma))\n",
    "\n",
    "x = np.linspace(-4,4,10)\n",
    "y = gaussian(x, 0.0, 1.0)\n",
    "\n",
    "cs = CubicSpline(x,y)\n",
    "x_i = np.linspace(-4,4,1000)\n",
    "\n",
    "y_g = gaussian(x_i, 0.0, 1.0)\n",
    "y_cs = cs(x_i)\n",
    "y_l = langrange_interpolation(x_i, x, y)"
   ]
  },
  {
   "cell_type": "code",
   "execution_count": 5,
   "metadata": {},
   "outputs": [
    {
     "data": {
      "image/png": "[encoded data removed]",
      "text/plain": [
       "<Figure size 432x288 with 1 Axes>"
      ]
     },
     "metadata": {
      "needs_background": "light"
     },
     "output_type": "display_data"
    }
   ],
   "source": [
    "plt.plot(x_i,y_g, color='b')\n",
    "plt.plot(x_i,y_l, color='g')\n",
    "plt.plot(x_i,y_cs, color='r')\n",
    "plt.plot(x,y,\",\")\n",
    "plt.show()"
   ]
  },
  {
   "cell_type": "markdown",
   "metadata": {},
   "source": [
    "#### Inferences\n",
    "\n",
    "- The lagrange interpolation got distorted at the edges as bisection takes points on either side of the value and hence there are no values to fit on edges.\n",
    "- As we can see the CubicSpline gave the best fit as compared to all other methods.\n",
    "- Therefore, I would like to choose the CubicSpline interpolation over Guassian and Lagrange interpolations."
   ]
  },
  {
   "cell_type": "markdown",
   "metadata": {},
   "source": [
    "### Q3 "
   ]
  },
  {
   "cell_type": "code",
   "execution_count": 6,
   "metadata": {},
   "outputs": [],
   "source": [
    "def f(x):\n",
    "    return (x-2)**3 - (3.5*x) + 8\n",
    "\n",
    "def df(x):\n",
    "    return 3*(x-2)**2 - 3.5\n",
    "\n",
    "def F(a, b):\n",
    "    def integral(x):\n",
    "        return (x-2)**4 + (8*x) - (7/4)*(x**2)\n",
    "\n",
    "    return integral(b) - integral(a)\n",
    "\n",
    "def central_diff(x):\n",
    "    def f(x):\n",
    "        return (x-2)**3 - (3.5*x) + 8\n",
    "    h = 0.001\n",
    "    return (f(x+h) - f(x))/h "
   ]
  },
  {
   "cell_type": "markdown",
   "metadata": {},
   "source": [
    "### Q4"
   ]
  },
  {
   "cell_type": "code",
   "execution_count": 7,
   "metadata": {},
   "outputs": [],
   "source": [
    "x = [0, 1, 2, 3, 4]\n",
    "fx = list(map(f, x))\n",
    "\n",
    "cs = CubicSpline(x, fx)"
   ]
  },
  {
   "cell_type": "markdown",
   "metadata": {},
   "source": [
    "### Q5"
   ]
  },
  {
   "cell_type": "code",
   "execution_count": 8,
   "metadata": {},
   "outputs": [
    {
     "name": "stdout",
     "output_type": "stream",
     "text": [
      "Integral using our function: 4.0\n",
      "Integral using Guassian Quadrature function: 3.9999999999999996\n"
     ]
    }
   ],
   "source": [
    "exactF = F(0, 4)\n",
    "guasF, gausErr = quadrature(cs, 0, 4)\n",
    "\n",
    "print(f\"Integral using our function: {exactF}\")\n",
    "print(f\"Integral using Guassian Quadrature function: {guasF}\")"
   ]
  },
  {
   "cell_type": "markdown",
   "metadata": {},
   "source": [
    "### Q6"
   ]
  },
  {
   "cell_type": "code",
   "execution_count": 9,
   "metadata": {},
   "outputs": [
    {
     "name": "stdout",
     "output_type": "stream",
     "text": [
      "Exact Derivative:\n",
      "[8.5, -0.5, -3.5, -0.5, 8.5]\n",
      "\n",
      "Central Difference Derivative:\n",
      "[8.500001, -0.4999989999998622, -3.4999989999994763, -0.4999989999999732, 8.500001000000923]\n"
     ]
    }
   ],
   "source": [
    "exact_df = list(map(df, x))\n",
    "central_df = [derivative(cs, val, dx = 0.001) for val in x] \n",
    "\n",
    "print(f\"Exact Derivative:\\n{exact_df}\")\n",
    "print(f\"\\nCentral Difference Derivative:\\n{central_df}\")      "
   ]
  },
  {
   "cell_type": "markdown",
   "metadata": {},
   "source": [
    "### Q7"
   ]
  },
  {
   "cell_type": "code",
   "execution_count": 10,
   "metadata": {},
   "outputs": [],
   "source": [
    "points = np.linspace(0, 4, 50)\n",
    "\n",
    "exact_f = np.array(list(map(f, points)))\n",
    "cs_f = np.array([i for i in list(map(cs, points))])\n",
    "\n",
    "lg = lagrange(x, fx)\n",
    "l_f = np.array(list(map(lg, points)))"
   ]
  },
  {
   "cell_type": "code",
   "execution_count": 11,
   "metadata": {
    "scrolled": true
   },
   "outputs": [
    {
     "data": {
      "text/plain": [
       "array([ 0.        ,  0.6544382 ,  1.23217367,  1.73647035,  2.17059219,\n",
       "        2.53780313,  2.84136712,  3.0845481 ,  3.27061003,  3.40281685,\n",
       "        3.48443251,  3.51872094,  3.5089461 ,  3.45837194,  3.37026239,\n",
       "        3.24788141,  3.09449294,  2.91336093,  2.70774932,  2.48092206,\n",
       "        2.2361431 ,  1.97667638,  1.70578585,  1.42673546,  1.14278914,\n",
       "        0.85721086,  0.57326454,  0.29421415,  0.02332362, -0.2361431 ,\n",
       "       -0.48092206, -0.70774932, -0.91336093, -1.09449294, -1.24788141,\n",
       "       -1.37026239, -1.45837194, -1.5089461 , -1.51872094, -1.48443251,\n",
       "       -1.40281685, -1.27061003, -1.0845481 , -0.84136712, -0.53780313,\n",
       "       -0.17059219,  0.26352965,  0.76782633,  1.3455618 ,  2.        ])"
      ]
     },
     "execution_count": 11,
     "metadata": {},
     "output_type": "execute_result"
    }
   ],
   "source": [
    "cs_f"
   ]
  },
  {
   "cell_type": "code",
   "execution_count": 12,
   "metadata": {
    "scrolled": true
   },
   "outputs": [
    {
     "data": {
      "text/plain": [
       "array([ 0.        ,  0.6544382 ,  1.23217367,  1.73647035,  2.17059219,\n",
       "        2.53780313,  2.84136712,  3.0845481 ,  3.27061003,  3.40281685,\n",
       "        3.48443251,  3.51872094,  3.5089461 ,  3.45837194,  3.37026239,\n",
       "        3.24788141,  3.09449294,  2.91336093,  2.70774932,  2.48092206,\n",
       "        2.2361431 ,  1.97667638,  1.70578585,  1.42673546,  1.14278914,\n",
       "        0.85721086,  0.57326454,  0.29421415,  0.02332362, -0.2361431 ,\n",
       "       -0.48092206, -0.70774932, -0.91336093, -1.09449294, -1.24788141,\n",
       "       -1.37026239, -1.45837194, -1.5089461 , -1.51872094, -1.48443251,\n",
       "       -1.40281685, -1.27061003, -1.0845481 , -0.84136712, -0.53780313,\n",
       "       -0.17059219,  0.26352965,  0.76782633,  1.3455618 ,  2.        ])"
      ]
     },
     "execution_count": 12,
     "metadata": {},
     "output_type": "execute_result"
    }
   ],
   "source": [
    "exact_f"
   ]
  },
  {
   "cell_type": "code",
   "execution_count": 13,
   "metadata": {},
   "outputs": [
    {
     "data": {
      "text/plain": [
       "array([ 0.        ,  0.6544382 ,  1.23217367,  1.73647035,  2.17059219,\n",
       "        2.53780313,  2.84136712,  3.0845481 ,  3.27061003,  3.40281685,\n",
       "        3.48443251,  3.51872094,  3.5089461 ,  3.45837194,  3.37026239,\n",
       "        3.24788141,  3.09449294,  2.91336093,  2.70774932,  2.48092206,\n",
       "        2.2361431 ,  1.97667638,  1.70578585,  1.42673546,  1.14278914,\n",
       "        0.85721086,  0.57326454,  0.29421415,  0.02332362, -0.2361431 ,\n",
       "       -0.48092206, -0.70774932, -0.91336093, -1.09449294, -1.24788141,\n",
       "       -1.37026239, -1.45837194, -1.5089461 , -1.51872094, -1.48443251,\n",
       "       -1.40281685, -1.27061003, -1.0845481 , -0.84136712, -0.53780313,\n",
       "       -0.17059219,  0.26352965,  0.76782633,  1.3455618 ,  2.        ])"
      ]
     },
     "execution_count": 13,
     "metadata": {},
     "output_type": "execute_result"
    }
   ],
   "source": [
    "l_f"
   ]
  },
  {
   "cell_type": "markdown",
   "metadata": {},
   "source": [
    "- As we can see we are getting the same values for the function using Lagrange Interpolation and CubicSpline Interpolation which fully resembles with expected output of the actual function."
   ]
  },
  {
   "cell_type": "code",
   "execution_count": null,
   "metadata": {},
   "outputs": [],
   "source": []
  }
 ],
 "metadata": {
  "kernelspec": {
   "display_name": "Python 3",
   "language": "python",
   "name": "python3"
  },
  "language_info": {
   "codemirror_mode": {
    "name": "ipython",
    "version": 3
   },
   "file_extension": ".py",
   "mimetype": "text/x-python",
   "name": "python",
   "nbconvert_exporter": "python",
   "pygments_lexer": "ipython3",
   "version": "3.7.4rc1"
  }
 },
 "nbformat": 4,
 "nbformat_minor": 2
}
